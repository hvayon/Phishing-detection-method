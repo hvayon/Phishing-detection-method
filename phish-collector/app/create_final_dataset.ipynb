{
 "cells": [
  {
   "cell_type": "code",
   "id": "initial_id",
   "metadata": {
    "collapsed": true,
    "ExecuteTime": {
     "end_time": "2025-05-08T20:31:26.894290Z",
     "start_time": "2025-05-08T20:31:26.891042Z"
    }
   },
   "source": "import pandas as pd",
   "outputs": [],
   "execution_count": 1
  },
  {
   "metadata": {
    "ExecuteTime": {
     "end_time": "2025-05-08T20:31:58.722985Z",
     "start_time": "2025-05-08T20:31:58.698373Z"
    }
   },
   "cell_type": "code",
   "source": [
    "phishing_df = pd.read_csv('../data/phishing_sites.txt', names=['url'])\n",
    "phishing_df['status'] = 'phishing'"
   ],
   "id": "5717a7d6ebb9ca6f",
   "outputs": [],
   "execution_count": 4
  },
  {
   "metadata": {
    "ExecuteTime": {
     "end_time": "2025-05-08T20:37:55.474444Z",
     "start_time": "2025-05-08T20:37:55.454610Z"
    }
   },
   "cell_type": "code",
   "source": [
    "# Легитимные URL (предположим, CSV-файл с колонкой 'url')\n",
    "legitimate_df = pd.read_csv('../data/legitimate_sites.csv', sep=';')\n",
    "\n",
    "# Если в легитимных данных нет метки, добавляем\n",
    "# if 'status' not in legitimate_df.columns:\n",
    "#     legitimate_df['status'] = 'legitimate'"
   ],
   "id": "52dd52265a794b8f",
   "outputs": [],
   "execution_count": 14
  },
  {
   "metadata": {
    "ExecuteTime": {
     "end_time": "2025-05-08T20:37:56.778268Z",
     "start_time": "2025-05-08T20:37:56.767549Z"
    }
   },
   "cell_type": "code",
   "source": [
    "# 2. Проверка структуры данных\n",
    "print(\"Фишинговые данные:\")\n",
    "print(phishing_df.head())\n",
    "print(\"\\nЛегитимные данные:\")\n",
    "print(legitimate_df.head())"
   ],
   "id": "5774f3699c2e4635",
   "outputs": [
    {
     "name": "stdout",
     "output_type": "stream",
     "text": [
      "Фишинговые данные:\n",
      "                                                 url    status\n",
      "0                            https://mesdalu.app.br/  phishing\n",
      "1  http://smartadtech.vercel.app/managermentloc/L...  phishing\n",
      "2                  http://anasazistones.se1pdf.live/  phishing\n",
      "3   http://policybreachbuzzforge.vercel.app/get_help  phishing\n",
      "4                    http://llgginkcoiun.webflow.io/  phishing\n",
      "\n",
      "Легитимные данные:\n",
      "                                                 url      status\n",
      "0              http://www.crestonwood.com/router.php  legitimate\n",
      "1                                 http://rgipt.ac.in  legitimate\n",
      "2  http://www.iracing.com/tracks/gateway-motorspo...  legitimate\n",
      "3                                http://www.mutuo.it  legitimate\n",
      "4         http://vamoaestudiarmedicina.blogspot.com/  legitimate\n"
     ]
    }
   ],
   "execution_count": 15
  },
  {
   "metadata": {
    "ExecuteTime": {
     "end_time": "2025-05-08T20:38:06.186339Z",
     "start_time": "2025-05-08T20:38:06.173559Z"
    }
   },
   "cell_type": "code",
   "source": [
    "# 3. Объединение датасетов\n",
    "# Приводим к одинаковым колонкам\n",
    "combined_df = pd.concat([\n",
    "    phishing_df[['url', 'status']],\n",
    "    legitimate_df[['url', 'status']]\n",
    "], axis=0)\n"
   ],
   "id": "a23e6cd044cd0ebe",
   "outputs": [],
   "execution_count": 16
  },
  {
   "metadata": {
    "ExecuteTime": {
     "end_time": "2025-05-08T20:38:27.858940Z",
     "start_time": "2025-05-08T20:38:27.810994Z"
    }
   },
   "cell_type": "code",
   "source": [
    "# Удаление дубликатов\n",
    "combined_df = combined_df.drop_duplicates(subset=['url'])\n",
    "\n",
    "# Перемешивание данных\n",
    "combined_df = combined_df.sample(frac=1).reset_index(drop=True)\n",
    "\n",
    "# 5. Сохранение в единый файл\n",
    "combined_df.to_csv('../data/final_dataset.csv', index=False)"
   ],
   "id": "ec1a29b50f8afa21",
   "outputs": [],
   "execution_count": 19
  },
  {
   "metadata": {
    "ExecuteTime": {
     "end_time": "2025-05-08T20:38:10.094Z",
     "start_time": "2025-05-08T20:38:10.081372Z"
    }
   },
   "cell_type": "code",
   "source": [
    "print(f\"\\nИтоговый датасет ({len(combined_df)} записей):\")\n",
    "print(combined_df['status'].value_counts())\n"
   ],
   "id": "b83e16c0ae602b20",
   "outputs": [
    {
     "name": "stdout",
     "output_type": "stream",
     "text": [
      "\n",
      "Итоговый датасет (11857 записей):\n",
      "status\n",
      "phishing      6142\n",
      "legitimate    5715\n",
      "Name: count, dtype: int64\n"
     ]
    }
   ],
   "execution_count": 18
  }
 ],
 "metadata": {
  "kernelspec": {
   "display_name": "Python 3",
   "language": "python",
   "name": "python3"
  },
  "language_info": {
   "codemirror_mode": {
    "name": "ipython",
    "version": 2
   },
   "file_extension": ".py",
   "mimetype": "text/x-python",
   "name": "python",
   "nbconvert_exporter": "python",
   "pygments_lexer": "ipython2",
   "version": "2.7.6"
  }
 },
 "nbformat": 4,
 "nbformat_minor": 5
}
